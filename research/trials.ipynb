{
 "cells": [
  {
   "cell_type": "code",
   "execution_count": 1,
   "id": "7ed62967",
   "metadata": {},
   "outputs": [
    {
     "data": {
      "text/plain": [
       "'/workspaces/codespaces-blank/research'"
      ]
     },
     "execution_count": 1,
     "metadata": {},
     "output_type": "execute_result"
    }
   ],
   "source": [
    "%pwd"
   ]
  },
  {
   "cell_type": "code",
   "execution_count": 2,
   "id": "b5fa208f",
   "metadata": {},
   "outputs": [],
   "source": [
    "import os\n",
    "os.chdir(\"../\")"
   ]
  },
  {
   "cell_type": "code",
   "execution_count": 3,
   "metadata": {},
   "outputs": [
    {
     "data": {
      "text/plain": [
       "'/workspaces/codespaces-blank'"
      ]
     },
     "execution_count": 3,
     "metadata": {},
     "output_type": "execute_result"
    }
   ],
   "source": [
    "%pwd"
   ]
  },
  {
   "cell_type": "code",
   "execution_count": 4,
   "metadata": {},
   "outputs": [],
   "source": [
    "from langchain.document_loaders import PyPDFLoader, DirectoryLoader\n",
    "from langchain.text_splitter import RecursiveCharacterTextSplitter"
   ]
  },
  {
   "cell_type": "code",
   "execution_count": 5,
   "metadata": {},
   "outputs": [],
   "source": [
    "def load_pdf_file(data):\n",
    "    loader=DirectoryLoader(data,\n",
    "                           glob=\"*.pdf\",\n",
    "                           loader_cls=PyPDFLoader)\n",
    "    \n",
    "    documents=loader.load()\n",
    "\n",
    "    return documents"
   ]
  },
  {
   "cell_type": "code",
   "execution_count": 6,
   "id": "ab81fb97",
   "metadata": {},
   "outputs": [],
   "source": [
    "extracted_data=load_pdf_file('Data/')"
   ]
  },
  {
   "cell_type": "code",
   "execution_count": 7,
   "metadata": {},
   "outputs": [
    {
     "data": {
      "text/plain": [
       "637"
      ]
     },
     "execution_count": 7,
     "metadata": {},
     "output_type": "execute_result"
    }
   ],
   "source": [
    "len(extracted_data)"
   ]
  },
  {
   "cell_type": "code",
   "execution_count": 8,
   "id": "b3bc98b6",
   "metadata": {},
   "outputs": [
    {
     "name": "stdout",
     "output_type": "stream",
     "text": [
      "page_content='Description\n",
      "Actinomycosis is a relatively rare infection occurring\n",
      "in one out of 300,000(1/300,000) people per year. It is\n",
      "characterized by the presence of a lump or mass that often\n",
      "forms, draining sinus tracts to the skin surface. Fifty per-\n",
      "cent of actinomycosis cases are of the head and neck region\n",
      "(also called “lumpy jaw” and “cervicofacial actinomyco-\n",
      "sis”), 15% are in the chest, 20% are in the abdomen, and\n",
      "the rest are in the pelvis, heart, and brain. Men are three\n",
      "times more likely to develop actinomycosis than women.\n",
      "Causes and symptoms\n",
      "Actinomycosis is usually caused by the bacterium\n",
      "Actinomyces israelii. This bacterium is normally present\n",
      "in the mouth but can cause disease if it enters tissues fol-\n",
      "lowing an injury. Actinomyces israelii is an anaerobic\n",
      "bacterium which means it dislikes oxygen but grows very\n",
      "well in deep tissues where oxygen levels are low. Tooth\n",
      "extraction , tooth disease, root canal treatment ,j a w\n",
      "surgery, or poor dental hygiene can allow Actinomyces\n",
      "israelii to cause an infection in the head and neck region.\n",
      "The main symptom of cervicofacial actinomycosis is\n",
      "the presence of a hard lump on the face or neck. The lump\n",
      "may or may not be red. Fever occurs in some cases.\n",
      "Diagnosis\n",
      "Cervicofacial actinomycosis can be diagnosed by a fam-\n",
      "ily doctor or dentist and the patient may be referred to an oral\n",
      "surgeon or infectious disease specialist. The diagnosis of\n",
      "actinomycosis is based upon several things. The presence of a\n",
      "red lump with draining sinuses on the head or neck is strongly\n",
      "suggestive of cervicofacial actinomycosis. A recent history of\n",
      "tooth extraction or signs of tooth decay or poor dental\n",
      "hygiene aid in the diagnosis. Microscopic examination of the\n",
      "fluid draining from the sinuses shows the characteristic “sul-\n",
      "fur granules” (small yellow colored material in the fluid) pro-\n",
      "duced by Actinomyces israelii. A biopsy may be performed to\n",
      "remove a sample of the infected tissue. This procedure can be\n",
      "performed under local anesthesia in the doctor’s office. Occa-\n",
      "sionally the bacteria can be cultured from the sinus tract fluid\n",
      "or from samples of the infected tissue.\n",
      "Actinomycosis in the lungs, abdomen, pelvis, or\n",
      "brain can be very hard to diagnose since the symptoms\n",
      "often mimic those of other diseases. Actinomycosis of\n",
      "the lungs or abdomen can resemble tuberculosis or can-\n",
      "cer. x-ray results, the presence of draining sinus tracts,\n",
      "and microscopic analysis and culturing of infected tissue\n",
      "assist in the diagnosis.\n",
      "Treatment\n",
      "Actinomycosis is difficult to treat because of its\n",
      "dense tissue location. Surgery is often required to drain\n",
      "KEY TERMS\n",
      "Biopsy—The process which removes a sample of\n",
      "tissue for microscopic examination to aid in the\n",
      "diagnosis of a disease.\n",
      "Sinus tract —A narrow, elongated channel in the\n",
      "body which allows the escape of fluid.\n",
      "the lesion and/or to remove the site of infection. To kill\n",
      "the bacteria, large doses of penicillin are given through a\n",
      "vein daily for two to six weeks followed by six to twelve\n",
      "months of penicillin taken by mouth. Tetracycline, clin-\n",
      "damycin, or erythromycin may be used instead of peni-\n",
      "cillin. The antibiotic therapy must be completed to insure\n",
      "that the infection does not return. Hyperbaric oxygen\n",
      "(oxygen under high pressure) therapy in combination\n",
      "with the antibiotic therapy has been successful.\n",
      "Prognosis\n",
      "Complete recovery is achieved following treatment.\n",
      "If left untreated, the infection may cause localized bone\n",
      "destruction.\n",
      "Prevention\n",
      "The best prevention is to maintain good dental hy-\n",
      "giene.\n",
      "Resources\n",
      "OTHER\n",
      "“Actinomycosis.” HealthAnswers.com. 6 Feb. 1998. <http://\n",
      "www.healthanswers.com/database/ami/converted/\n",
      "000599.html>.\n",
      "Belinda Rowland, PhD\n",
      "Activated charcoal see Charcoal, activated\n",
      "Activated partial thromboplastin time see\n",
      "Partial thromboplastin time\n",
      "Acupressure\n",
      "Definition\n",
      "Acupressure is a form of touch therapy that utilizes\n",
      "the principles of acupuncture and Chinese medicine. In\n",
      "acupressure, the same points on the body are used as in\n",
      "acupuncture, but are stimulated with finger pressure\n",
      "GALE ENCYCLOPEDIA OF MEDICINE 2 35\n",
      "Acupressure\n",
      "GEM - 0001 to 0432 - A  10/22/03 1:41 PM  Page 35' metadata={'producer': 'PDFlib+PDI 5.0.0 (SunOS)', 'creator': 'PyPDF', 'creationdate': '2004-12-18T17:00:02-05:00', 'moddate': '2004-12-18T16:15:31-06:00', 'source': 'Data/Medical_book.pdf', 'total_pages': 637, 'page': 48, 'page_label': '49'}\n"
     ]
    }
   ],
   "source": [
    "print(extracted_data[48])"
   ]
  },
  {
   "cell_type": "code",
   "execution_count": 9,
   "id": "d8eaa063",
   "metadata": {},
   "outputs": [],
   "source": [
    "extracted_data_new=extracted_data[0:50]"
   ]
  },
  {
   "cell_type": "code",
   "execution_count": 10,
   "metadata": {},
   "outputs": [],
   "source": [
    "def text_split(extracted_data):\n",
    "    text_splitter=RecursiveCharacterTextSplitter(chunk_size=500, chunk_overlap=20)\n",
    "    text_chunks=text_splitter.split_documents(extracted_data)\n",
    "    return text_chunks"
   ]
  },
  {
   "cell_type": "code",
   "execution_count": 11,
   "id": "acf72b45",
   "metadata": {},
   "outputs": [
    {
     "name": "stdout",
     "output_type": "stream",
     "text": [
      "Length of Text Chunks:  394\n"
     ]
    }
   ],
   "source": [
    "text_chunks=text_split(extracted_data_new)\n",
    "print(\"Length of Text Chunks: \", len(text_chunks))"
   ]
  },
  {
   "cell_type": "code",
   "execution_count": 12,
   "id": "495fa78d",
   "metadata": {},
   "outputs": [
    {
     "data": {
      "text/plain": [
       "True"
      ]
     },
     "execution_count": 12,
     "metadata": {},
     "output_type": "execute_result"
    }
   ],
   "source": [
    "from dotenv import load_dotenv\n",
    "\n",
    "load_dotenv()"
   ]
  },
  {
   "cell_type": "code",
   "execution_count": 13,
   "id": "c71c9b89",
   "metadata": {},
   "outputs": [],
   "source": [
    "os.environ[\"MISTRAL_API_KEY\"] = os.getenv(\"MISTRAL_API_KEY\")"
   ]
  },
  {
   "cell_type": "code",
   "execution_count": 14,
   "id": "48b0197e",
   "metadata": {},
   "outputs": [
    {
     "name": "stderr",
     "output_type": "stream",
     "text": [
      "/workspaces/codespaces-blank/venv/lib/python3.10/site-packages/tqdm/auto.py:21: TqdmWarning: IProgress not found. Please update jupyter and ipywidgets. See https://ipywidgets.readthedocs.io/en/stable/user_install.html\n",
      "  from .autonotebook import tqdm as notebook_tqdm\n",
      "/workspaces/codespaces-blank/venv/lib/python3.10/site-packages/langchain_mistralai/embeddings.py:181: UserWarning: Could not download mistral tokenizer from Huggingface for calculating batch sizes. Set a Huggingface token via the HF_TOKEN environment variable to download the real tokenizer. Falling back to a dummy tokenizer that uses `len()`.\n",
      "  warnings.warn(\n"
     ]
    }
   ],
   "source": [
    "from langchain_mistralai import MistralAIEmbeddings\n",
    "\n",
    "embeddings = MistralAIEmbeddings(\n",
    "    model=\"mistral-embed\",\n",
    "\n",
    ")"
   ]
  },
  {
   "cell_type": "code",
   "execution_count": 15,
   "id": "af2ab208",
   "metadata": {},
   "outputs": [
    {
     "name": "stdout",
     "output_type": "stream",
     "text": [
      "[-0.02178955078125, -0.02880859375, 0.018035888671875, 0.006084442138671875, 0.039947509765625, 0.05\n"
     ]
    }
   ],
   "source": [
    "single_vector = embeddings.embed_query(\"hi\")\n",
    "print(str(single_vector)[:100])"
   ]
  },
  {
   "cell_type": "code",
   "execution_count": 16,
   "id": "32412d65",
   "metadata": {},
   "outputs": [],
   "source": [
    "vector_length=len(single_vector)"
   ]
  },
  {
   "cell_type": "code",
   "execution_count": 17,
   "id": "79e12844",
   "metadata": {},
   "outputs": [],
   "source": [
    "from pinecone import Pinecone, ServerlessSpec\n",
    "\n",
    "pc = Pinecone(api_key=os.getenv(\"PINECONE_API_KEY\"))"
   ]
  },
  {
   "cell_type": "code",
   "execution_count": 18,
   "id": "aa216ec4",
   "metadata": {},
   "outputs": [
    {
     "data": {
      "text/plain": [
       "{\n",
       "    \"name\": \"medical\",\n",
       "    \"metric\": \"cosine\",\n",
       "    \"host\": \"medical-2rz7ocg.svc.aped-4627-b74a.pinecone.io\",\n",
       "    \"spec\": {\n",
       "        \"serverless\": {\n",
       "            \"cloud\": \"aws\",\n",
       "            \"region\": \"us-east-1\"\n",
       "        }\n",
       "    },\n",
       "    \"status\": {\n",
       "        \"ready\": true,\n",
       "        \"state\": \"Ready\"\n",
       "    },\n",
       "    \"vector_type\": \"dense\",\n",
       "    \"dimension\": 1024,\n",
       "    \"deletion_protection\": \"disabled\",\n",
       "    \"tags\": null\n",
       "}"
      ]
     },
     "execution_count": 18,
     "metadata": {},
     "output_type": "execute_result"
    }
   ],
   "source": [
    "index_name = \"medical\"\n",
    "\n",
    "pc.create_index(\n",
    "    name=index_name,\n",
    "    dimension=vector_length, # Replace with your model dimensions\n",
    "    metric=\"cosine\", # Replace with your model metric\n",
    "    spec=ServerlessSpec(\n",
    "        cloud=\"aws\",\n",
    "        region=\"us-east-1\"\n",
    "    ) \n",
    ")"
   ]
  },
  {
   "cell_type": "code",
   "execution_count": 19,
   "id": "33e662de",
   "metadata": {},
   "outputs": [],
   "source": [
    "from langchain_pinecone import PineconeVectorStore\n",
    "\n",
    "docsearch=PineconeVectorStore.from_documents(\n",
    "    documents=text_chunks,\n",
    "    index_name=index_name,\n",
    "    embedding=embeddings\n",
    ")"
   ]
  },
  {
   "cell_type": "code",
   "execution_count": 20,
   "id": "67e00a45",
   "metadata": {},
   "outputs": [],
   "source": [
    "retriever=docsearch.as_retriever(search_type=\"similarity\",search_kwargs={\"k\":3})"
   ]
  },
  {
   "cell_type": "code",
   "execution_count": 21,
   "metadata": {},
   "outputs": [
    {
     "name": "stdout",
     "output_type": "stream",
     "text": [
      "[Document(id='691e51ff-3a65-4c58-b871-ba6b4110612f', metadata={'creationdate': '2004-12-18T17:00:02-05:00', 'creator': 'PyPDF', 'moddate': '2004-12-18T16:15:31-06:00', 'page': 37.0, 'page_label': '38', 'producer': 'PDFlib+PDI 5.0.0 (SunOS)', 'source': 'Data/Medical_book.pdf', 'total_pages': 637.0}, page_content='Acidosis see Respiratory acidosis; Renal\\ntubular acidosis; Metabolic acidosis\\nAcne\\nDefinition\\nAcne is a common skin disease characterized by\\npimples on the face, chest, and back. It occurs when the\\npores of the skin become clogged with oil, dead skin\\ncells, and bacteria.\\nDescription\\nAcne vulgaris, the medical term for common acne, is\\nthe most common skin disease. It affects nearly 17 million\\npeople in the United States. While acne can arise at any'), Document(id='cb52e9fd-2fde-4bc2-90de-790425bfd00d', metadata={'creationdate': '2004-12-18T17:00:02-05:00', 'creator': 'PyPDF', 'moddate': '2004-12-18T16:15:31-06:00', 'page': 38.0, 'page_label': '39', 'producer': 'PDFlib+PDI 5.0.0 (SunOS)', 'source': 'Data/Medical_book.pdf', 'total_pages': 637.0}, page_content='GALE ENCYCLOPEDIA OF MEDICINE 2 25\\nAcne\\nAcne vulgaris affecting a woman’s face. Acne is the general\\nname given to a skin disorder in which the sebaceous\\nglands become inflamed.(Photograph by Biophoto Associ-\\nates, Photo Researchers, Inc. Reproduced by permission.)\\nGEM - 0001 to 0432 - A  10/22/03 1:41 PM  Page 25'), Document(id='2b8dea69-45d3-4e5c-b055-0e684650a6e6', metadata={'creationdate': '2004-12-18T17:00:02-05:00', 'creator': 'PyPDF', 'moddate': '2004-12-18T16:15:31-06:00', 'page': 37.0, 'page_label': '38', 'producer': 'PDFlib+PDI 5.0.0 (SunOS)', 'source': 'Data/Medical_book.pdf', 'total_pages': 637.0}, page_content='acne.\\n• Environment. Exposure to oils and greases, polluted air,\\nand sweating in hot weather aggravate acne.\\n• Stress. Emotional stress may contribute to acne.\\nAcne is usually not conspicuous, although inflamed\\nlesions may cause pain, tenderness, itching, or swelling.\\nThe most troubling aspects of these lesions are the nega-\\ntive cosmetic effects and potential for scarring. Some\\npeople, especially teenagers, become emotionally upset\\nabout their condition, and have problems forming rela-')]\n"
     ]
    }
   ],
   "source": [
    "retrieved_docs=retriever.invoke(\"What is acne?\")\n",
    "\n",
    "print(retrieved_docs)"
   ]
  },
  {
   "cell_type": "code",
   "execution_count": 22,
   "id": "ba961563",
   "metadata": {},
   "outputs": [],
   "source": [
    "from langchain_mistralai import ChatMistralAI\n",
    "\n",
    "llm = ChatMistralAI(\n",
    "    model=\"mistral-small-latest\",\n",
    "    temperature=0.6,\n",
    "    max_retries=3\n",
    ")"
   ]
  },
  {
   "cell_type": "code",
   "execution_count": null,
   "metadata": {},
   "outputs": [],
   "source": [
    "from langchain.chains import create_retrieval_chain\n",
    "from langchain.chains.combine_documents import create_stuff_documents_chain\n",
    "from langchain_core.prompts import ChatPromptTemplate\n",
    "\n",
    "system_prompt=(\n",
    "    \"\"\"\n",
    "    Use the following pieces of retrieved content to assist in question answering task. If you don't know the answer, say that you don't know. Answer concisely.\n",
    "    \\n\\n\n",
    "    {context}\n",
    "    \"\"\"\n",
    ")\n",
    "\n",
    "prompt=ChatPromptTemplate.from_messages(\n",
    "    [\n",
    "        (\"system\",system_prompt),\n",
    "        (\"human\",\"{input}\")\n",
    "    ]\n",
    ")"
   ]
  },
  {
   "cell_type": "code",
   "execution_count": 24,
   "metadata": {},
   "outputs": [],
   "source": [
    "question_answer_chain=create_stuff_documents_chain(llm, prompt)\n",
    "rag_chain=create_retrieval_chain(retriever,question_answer_chain)"
   ]
  },
  {
   "cell_type": "code",
   "execution_count": 25,
   "id": "39afae67",
   "metadata": {},
   "outputs": [
    {
     "name": "stdout",
     "output_type": "stream",
     "text": [
      "An acoustic neuroma is a benign tumor involving cells of the myelin sheath that surrounds the vestibulocochlear nerve (eighth cranial nerve).\n"
     ]
    }
   ],
   "source": [
    "response=rag_chain.invoke({\"input\":\"What is Acoustic Neuroma?\"})\n",
    "print(response['answer'])"
   ]
  },
  {
   "cell_type": "code",
   "execution_count": 27,
   "metadata": {},
   "outputs": [
    {
     "name": "stdout",
     "output_type": "stream",
     "text": [
      "I don't know.\n"
     ]
    }
   ],
   "source": [
    "response2=rag_chain.invoke({\"input\":\"What is llm?\"})\n",
    "print(response2['answer'])"
   ]
  }
 ],
 "metadata": {
  "kernelspec": {
   "display_name": "Python 3",
   "language": "python",
   "name": "python3"
  },
  "language_info": {
   "codemirror_mode": {
    "name": "ipython",
    "version": 3
   },
   "file_extension": ".py",
   "mimetype": "text/x-python",
   "name": "python",
   "nbconvert_exporter": "python",
   "pygments_lexer": "ipython3",
   "version": "3.10.0"
  }
 },
 "nbformat": 4,
 "nbformat_minor": 5
}
